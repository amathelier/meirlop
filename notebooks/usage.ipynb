{
 "cells": [
  {
   "cell_type": "markdown",
   "metadata": {},
   "source": [
    "# Usage"
   ]
  },
  {
   "cell_type": "markdown",
   "metadata": {},
   "source": [
    "## Dependencies\n",
    "This project depends on working installations of:\n",
    "* Biopython\n",
    "* joblib\n",
    "* MOODS\n",
    "* numpy\n",
    "* pandas\n",
    "* pybedtools\n",
    "* scikit-learn\n",
    "* statsmodels\n",
    "* tqdm\n",
    "\n",
    "All dependencies are available via conda.\n",
    "\n",
    "This notebook additionally depends on:\n",
    "* wget\n",
    "* zcat\n",
    "\n",
    "### MOODS Motif scanning\n",
    "Motif scanning functionality depends on the [MOODS Python module](https://github.com/jhkorhonen/MOODS/tree/master/python), which is available via [conda](https://anaconda.org/bioconda/moods). This may have to be installed manually if you don't use conda, since there is currently no PyPi package.\n"
   ]
  },
  {
   "cell_type": "code",
   "execution_count": 1,
   "metadata": {},
   "outputs": [],
   "source": [
    "import pandas as pd\n",
    "import numpy as np\n",
    "\n",
    "import datetime\n",
    "from timeit import default_timer as timer\n"
   ]
  },
  {
   "cell_type": "code",
   "execution_count": 2,
   "metadata": {},
   "outputs": [],
   "source": [
    "sns.set(rc={'figure.figsize':(12,12)})"
   ]
  },
  {
   "cell_type": "markdown",
   "metadata": {},
   "source": [
    "## Specify number of processes"
   ]
  },
  {
   "cell_type": "code",
   "execution_count": 31,
   "metadata": {},
   "outputs": [],
   "source": [
    "n_jobs = 20"
   ]
  },
  {
   "cell_type": "markdown",
   "metadata": {},
   "source": [
    "## Generate scored and stratified fasta file from peak data\n",
    "For each peak, output should appear as:\n",
    "```\n",
    ">sequence_name score stratum other_descriptive_text\n",
    "SEQUENCESEQUENCESEQUENCE\n",
    "```\n",
    "\n",
    "In this example, we set `score` to `log2fc * (1-pval)` using values from our peak file.\n",
    "If strata are unimportant, you may simply enter a single constant.\n",
    "If you already have such a file, skip to **Load data for motif enrichment**"
   ]
  },
  {
   "cell_type": "markdown",
   "metadata": {},
   "source": [
    "### Download and locate reference sequence"
   ]
  },
  {
   "cell_type": "code",
   "execution_count": 3,
   "metadata": {},
   "outputs": [
    {
     "name": "stdout",
     "output_type": "stream",
     "text": [
      "--2018-11-28 11:08:24--  ftp://ftp.ebi.ac.uk/pub/databases/gencode/Gencode_human/release_28/GRCh38.primary_assembly.genome.fa.gz\n",
      "           => 'genome.fa.gz'\n",
      "Resolving ftp.ebi.ac.uk... 193.62.192.4\n",
      "Connecting to ftp.ebi.ac.uk|193.62.192.4|:21... connected.\n",
      "Logging in as anonymous ... Logged in!\n",
      "==> SYST ... done.    ==> PWD ... done.\n",
      "==> TYPE I ... done.  ==> CWD (1) /pub/databases/gencode/Gencode_human/release_28 ... done.\n",
      "==> SIZE GRCh38.primary_assembly.genome.fa.gz ... 844691642\n",
      "==> PASV ... done.    ==> RETR GRCh38.primary_assembly.genome.fa.gz ... done.\n",
      "Length: 844691642 (806M) (unauthoritative)\n",
      "\n",
      "GRCh38.primary_asse 100%[===================>] 805.56M  6.94MB/s    in 2m 57s  \n",
      "\n",
      "2018-11-28 11:11:22 (4.56 MB/s) - 'genome.fa.gz' saved [844691642]\n",
      "\n"
     ]
    }
   ],
   "source": [
    "! wget ftp://ftp.ebi.ac.uk/pub/databases/gencode/Gencode_human/release_28/GRCh38.primary_assembly.genome.fa.gz -O genome.fa.gz\n",
    "! zcat genome.fa.gz > genome.fa"
   ]
  },
  {
   "cell_type": "code",
   "execution_count": 4,
   "metadata": {},
   "outputs": [],
   "source": [
    "genome_fa_filename = f'genome.fa'"
   ]
  },
  {
   "cell_type": "markdown",
   "metadata": {},
   "source": [
    "### Locate peak data"
   ]
  },
  {
   "cell_type": "code",
   "execution_count": 5,
   "metadata": {},
   "outputs": [],
   "source": [
    "peaks_filename = 'differential_peaks.txt'"
   ]
  },
  {
   "cell_type": "code",
   "execution_count": 6,
   "metadata": {},
   "outputs": [],
   "source": [
    "peaks_df = pd.read_table(peaks_filename)"
   ]
  },
  {
   "cell_type": "markdown",
   "metadata": {},
   "source": [
    "### Annotate peaks with additional information"
   ]
  },
  {
   "cell_type": "code",
   "execution_count": 7,
   "metadata": {},
   "outputs": [],
   "source": [
    "min_tag_limit = 10\n",
    "\n",
    "peak_annotation_columns = ['chr', 'start', 'end', 'strand', 'log2fc', 'pval', 'min_tags']\n",
    "peak_id_column = 'PeakID'\n",
    "\n",
    "peak_annotation_df = (peaks_df[peaks_df['min_tags'] >= min_tag_limit]\n",
    "                      .rename(columns = {peak_id_column: 'peak_id'})\n",
    "                      [list(set(['peak_id'] + peak_annotation_columns))]\n",
    "                      .rename(columns = {col: f'peak_{col}' \n",
    "                                         for col \n",
    "                                         in peak_annotation_columns})\n",
    "                      .drop_duplicates())\n",
    "\n",
    "peak_annotation_df = peak_annotation_df[['peak_id'] + [f'peak_{col}' for col in peak_annotation_columns]]\n"
   ]
  },
  {
   "cell_type": "markdown",
   "metadata": {},
   "source": [
    "### Weight log2fc by 1-pval"
   ]
  },
  {
   "cell_type": "code",
   "execution_count": 8,
   "metadata": {},
   "outputs": [],
   "source": [
    "peak_annotation_df['peak_weighted_log2fc'] = peak_annotation_df['peak_log2fc'] * (1 - peak_annotation_df['peak_pval'])"
   ]
  },
  {
   "cell_type": "markdown",
   "metadata": {},
   "source": [
    "### Set score for each peak equal to the weighted log2fc"
   ]
  },
  {
   "cell_type": "code",
   "execution_count": 9,
   "metadata": {},
   "outputs": [],
   "source": [
    "peak_annotation_df['peak_score'] = peak_annotation_df['peak_weighted_log2fc']\n",
    "peak_annotation_bed_columns = ['peak_chr', 'peak_start', 'peak_end', 'peak_id', 'peak_score', 'peak_strand']"
   ]
  },
  {
   "cell_type": "code",
   "execution_count": 10,
   "metadata": {},
   "outputs": [
    {
     "data": {
      "text/html": [
       "<div>\n",
       "<style scoped>\n",
       "    .dataframe tbody tr th:only-of-type {\n",
       "        vertical-align: middle;\n",
       "    }\n",
       "\n",
       "    .dataframe tbody tr th {\n",
       "        vertical-align: top;\n",
       "    }\n",
       "\n",
       "    .dataframe thead th {\n",
       "        text-align: right;\n",
       "    }\n",
       "</style>\n",
       "<table border=\"1\" class=\"dataframe\">\n",
       "  <thead>\n",
       "    <tr style=\"text-align: right;\">\n",
       "      <th></th>\n",
       "      <th>peak_chr</th>\n",
       "      <th>peak_start</th>\n",
       "      <th>peak_end</th>\n",
       "      <th>peak_id</th>\n",
       "      <th>peak_score</th>\n",
       "      <th>peak_strand</th>\n",
       "    </tr>\n",
       "  </thead>\n",
       "  <tbody>\n",
       "    <tr>\n",
       "      <th>0</th>\n",
       "      <td>chr15</td>\n",
       "      <td>65295976</td>\n",
       "      <td>65296126</td>\n",
       "      <td>chr15-1</td>\n",
       "      <td>1.469470</td>\n",
       "      <td>+</td>\n",
       "    </tr>\n",
       "    <tr>\n",
       "      <th>1</th>\n",
       "      <td>chr6</td>\n",
       "      <td>26032024</td>\n",
       "      <td>26032174</td>\n",
       "      <td>chr6-1</td>\n",
       "      <td>0.220398</td>\n",
       "      <td>-</td>\n",
       "    </tr>\n",
       "    <tr>\n",
       "      <th>2</th>\n",
       "      <td>chr1</td>\n",
       "      <td>44721828</td>\n",
       "      <td>44721978</td>\n",
       "      <td>chr1-1</td>\n",
       "      <td>1.132725</td>\n",
       "      <td>-</td>\n",
       "    </tr>\n",
       "    <tr>\n",
       "      <th>3</th>\n",
       "      <td>chr1</td>\n",
       "      <td>153990688</td>\n",
       "      <td>153990838</td>\n",
       "      <td>chr1-2</td>\n",
       "      <td>0.998365</td>\n",
       "      <td>+</td>\n",
       "    </tr>\n",
       "    <tr>\n",
       "      <th>4</th>\n",
       "      <td>chr12</td>\n",
       "      <td>6943742</td>\n",
       "      <td>6943892</td>\n",
       "      <td>chr12-1</td>\n",
       "      <td>1.689156</td>\n",
       "      <td>+</td>\n",
       "    </tr>\n",
       "  </tbody>\n",
       "</table>\n",
       "</div>"
      ],
      "text/plain": [
       "  peak_chr  peak_start   peak_end  peak_id  peak_score peak_strand\n",
       "0    chr15    65295976   65296126  chr15-1    1.469470           +\n",
       "1     chr6    26032024   26032174   chr6-1    0.220398           -\n",
       "2     chr1    44721828   44721978   chr1-1    1.132725           -\n",
       "3     chr1   153990688  153990838   chr1-2    0.998365           +\n",
       "4    chr12     6943742    6943892  chr12-1    1.689156           +"
      ]
     },
     "execution_count": 10,
     "metadata": {},
     "output_type": "execute_result"
    }
   ],
   "source": [
    "peak_annotation_df[peak_annotation_bed_columns].head()"
   ]
  },
  {
   "cell_type": "markdown",
   "metadata": {},
   "source": [
    "### Extract peak sequence +/- 300 from peak center"
   ]
  },
  {
   "cell_type": "code",
   "execution_count": 11,
   "metadata": {},
   "outputs": [],
   "source": [
    "sequence_length = 600"
   ]
  },
  {
   "cell_type": "code",
   "execution_count": 12,
   "metadata": {},
   "outputs": [
    {
     "data": {
      "text/html": [
       "<div>\n",
       "<style scoped>\n",
       "    .dataframe tbody tr th:only-of-type {\n",
       "        vertical-align: middle;\n",
       "    }\n",
       "\n",
       "    .dataframe tbody tr th {\n",
       "        vertical-align: top;\n",
       "    }\n",
       "\n",
       "    .dataframe thead th {\n",
       "        text-align: right;\n",
       "    }\n",
       "</style>\n",
       "<table border=\"1\" class=\"dataframe\">\n",
       "  <thead>\n",
       "    <tr style=\"text-align: right;\">\n",
       "      <th></th>\n",
       "      <th>peak_id</th>\n",
       "      <th>peak_chr</th>\n",
       "      <th>peak_start</th>\n",
       "      <th>peak_end</th>\n",
       "      <th>peak_strand</th>\n",
       "      <th>peak_log2fc</th>\n",
       "      <th>peak_pval</th>\n",
       "      <th>peak_min_tags</th>\n",
       "      <th>peak_weighted_log2fc</th>\n",
       "      <th>peak_score</th>\n",
       "    </tr>\n",
       "  </thead>\n",
       "  <tbody>\n",
       "    <tr>\n",
       "      <th>0</th>\n",
       "      <td>chr15-1</td>\n",
       "      <td>chr15</td>\n",
       "      <td>65295976</td>\n",
       "      <td>65296126</td>\n",
       "      <td>+</td>\n",
       "      <td>1.469470</td>\n",
       "      <td>0.000000e+00</td>\n",
       "      <td>23865.0</td>\n",
       "      <td>1.469470</td>\n",
       "      <td>1.469470</td>\n",
       "    </tr>\n",
       "    <tr>\n",
       "      <th>1</th>\n",
       "      <td>chr6-1</td>\n",
       "      <td>chr6</td>\n",
       "      <td>26032024</td>\n",
       "      <td>26032174</td>\n",
       "      <td>-</td>\n",
       "      <td>0.220398</td>\n",
       "      <td>1.330000e-107</td>\n",
       "      <td>18738.0</td>\n",
       "      <td>0.220398</td>\n",
       "      <td>0.220398</td>\n",
       "    </tr>\n",
       "    <tr>\n",
       "      <th>2</th>\n",
       "      <td>chr1-1</td>\n",
       "      <td>chr1</td>\n",
       "      <td>44721828</td>\n",
       "      <td>44721978</td>\n",
       "      <td>-</td>\n",
       "      <td>1.132725</td>\n",
       "      <td>0.000000e+00</td>\n",
       "      <td>9718.0</td>\n",
       "      <td>1.132725</td>\n",
       "      <td>1.132725</td>\n",
       "    </tr>\n",
       "    <tr>\n",
       "      <th>3</th>\n",
       "      <td>chr1-2</td>\n",
       "      <td>chr1</td>\n",
       "      <td>153990688</td>\n",
       "      <td>153990838</td>\n",
       "      <td>+</td>\n",
       "      <td>0.998365</td>\n",
       "      <td>0.000000e+00</td>\n",
       "      <td>8916.0</td>\n",
       "      <td>0.998365</td>\n",
       "      <td>0.998365</td>\n",
       "    </tr>\n",
       "    <tr>\n",
       "      <th>4</th>\n",
       "      <td>chr12-1</td>\n",
       "      <td>chr12</td>\n",
       "      <td>6943742</td>\n",
       "      <td>6943892</td>\n",
       "      <td>+</td>\n",
       "      <td>1.689156</td>\n",
       "      <td>0.000000e+00</td>\n",
       "      <td>5875.0</td>\n",
       "      <td>1.689156</td>\n",
       "      <td>1.689156</td>\n",
       "    </tr>\n",
       "  </tbody>\n",
       "</table>\n",
       "</div>"
      ],
      "text/plain": [
       "   peak_id peak_chr  peak_start   peak_end peak_strand  peak_log2fc  \\\n",
       "0  chr15-1    chr15    65295976   65296126           +     1.469470   \n",
       "1   chr6-1     chr6    26032024   26032174           -     0.220398   \n",
       "2   chr1-1     chr1    44721828   44721978           -     1.132725   \n",
       "3   chr1-2     chr1   153990688  153990838           +     0.998365   \n",
       "4  chr12-1    chr12     6943742    6943892           +     1.689156   \n",
       "\n",
       "       peak_pval  peak_min_tags  peak_weighted_log2fc  peak_score  \n",
       "0   0.000000e+00        23865.0              1.469470    1.469470  \n",
       "1  1.330000e-107        18738.0              0.220398    0.220398  \n",
       "2   0.000000e+00         9718.0              1.132725    1.132725  \n",
       "3   0.000000e+00         8916.0              0.998365    0.998365  \n",
       "4   0.000000e+00         5875.0              1.689156    1.689156  "
      ]
     },
     "execution_count": 12,
     "metadata": {},
     "output_type": "execute_result"
    }
   ],
   "source": [
    "peak_annotation_df.head()"
   ]
  },
  {
   "cell_type": "code",
   "execution_count": 13,
   "metadata": {},
   "outputs": [
    {
     "data": {
      "text/plain": [
       "['peak_chr', 'peak_start', 'peak_end', 'peak_id', 'peak_score', 'peak_strand']"
      ]
     },
     "execution_count": 13,
     "metadata": {},
     "output_type": "execute_result"
    }
   ],
   "source": [
    "peak_annotation_bed_columns"
   ]
  },
  {
   "cell_type": "markdown",
   "metadata": {},
   "source": [
    "### Write fasta file"
   ]
  },
  {
   "cell_type": "code",
   "execution_count": 14,
   "metadata": {},
   "outputs": [
    {
     "name": "stderr",
     "output_type": "stream",
     "text": [
      "***** WARNING: File /tmp/pybedtools.j0f4dze7.tmp has inconsistent naming convention for record:\n",
      "GL000008.2\t0\t209709\n",
      "\n",
      "***** WARNING: File /tmp/pybedtools.j0f4dze7.tmp has inconsistent naming convention for record:\n",
      "GL000008.2\t0\t209709\n",
      "\n",
      "index file genome.fa.fai not found, generating...\n"
     ]
    }
   ],
   "source": [
    "from meirlop import get_centered_peak_sequences, get_gc_pct, get_gc_pct_bin, write_scored_fasta\n",
    "peak_fasta_filename = 'peak_scores.fa'\n",
    "peak_fasta_file = open(peak_fasta_filename, 'w')\n",
    "\n",
    "peak_sequence_dict, peak_sequence_bed_df = get_centered_peak_sequences(peak_annotation_df, \n",
    "                                                                       genome_fa_file = open(genome_fa_filename, 'r'), \n",
    "                                                                       sequence_length = sequence_length, \n",
    "                                                                       peak_bed_columns = peak_annotation_bed_columns)\n",
    "peak_score_dict = peak_annotation_df.set_index('peak_id')['peak_score'].to_dict()\n",
    "\n",
    "peak_gc_pct_dict = {peak_id: get_gc_pct(seq) \n",
    "                        for peak_id, seq \n",
    "                        in peak_sequence_dict.items()}\n",
    "\n",
    "peak_gc_pct_bin_dict = {peak_id: get_gc_pct_bin(seq) \n",
    "                        for peak_id, seq \n",
    "                        in peak_sequence_dict.items()}\n",
    "\n",
    "peak_fasta_string = write_scored_fasta(peak_sequence_dict, \n",
    "                                       peak_score_dict, \n",
    "                                       peak_fasta_file, \n",
    "                                       other_dicts = [peak_gc_pct_bin_dict])\n",
    "peak_fasta_file.close()"
   ]
  },
  {
   "cell_type": "code",
   "execution_count": 15,
   "metadata": {},
   "outputs": [
    {
     "name": "stdout",
     "output_type": "stream",
     "text": [
      ">chr9-2 10.335965736376739 35\n",
      "TTCTAAATAACTTACAAAGATGTGTCAAGAAGCAATAACAAGACATATTAGAAAATATTTTGAATGGAATGAATATAAAAACCTGCCAAAACAGAACATGTGTGATGTAATTAAAGCTTGAAATTCTCACAGGACAAAATAAGAAGCATCTAATATCGATGTTCTTGGATTCCTCCTTTGCTAATGGCTGATTAGCTCTTATTGAACCAATTTTTACACAGATAATTGTAAACAACAGGAGATACTCTAAAACAAACAAACAAACAAACAAAAAACTATTTGAAGTTATCAGAGACTGACCAAAAGCAGGTAGATGTTGAAGGTGACAACACTTTCTAGAAAGGAACAGTACTGAGTAGGCACCCTGGTTTCACCACTTTTAGCCTGAAGGTAGATCCTGATGCAGCTAAAATATGGAAGTGAGGAAACTTTCTTATTGGAGTGATGAACCAGAGGGCAGAGGCAGAATATTTTACAATCAGAAGAAGGGTAGGGTTGTGAGGCTATCTCCAAAATGAGAGATAAGGTAGAAACACTATGTTATACCTAAATATCTGGCTTAAGTCTAACCAAAATACATGGATAAGACTACAAACAAAAG\n",
      ">chr1-234 4.925634316875965 35\n",
      "GTTAACTATTAGCTTTACTGCAGTTTCTTCTTGGTAGTTATCATTTCATGCCTGCCTACATACATACAAGGGGACCAGTGATAGTTTTTATGTGCTCAGCAAGATTTTTTTTTTCTTTCTTTCTCTTCCTAGTGAGGAAAAAGAAAGTTAGTGGCAGTTGGCATGCTGCCAGCTGAGTTTTTTTGCTGCTTTGAGTTTCAGGTTTCTTTCTTTCTCTTCCTAGTGAGGAAAAAGAAAGTTAGTGGCAGTTGGCATGCTGCCAGCTGAGTTTTTTTGCTGCTTTGAGTCTCAGTTTTCTTTCTTTCCTAGAGTCTCTGAAGCCACAGATCTCTTAAGAACTTTCTGTCTCCAAACCGTGGCTGCTCGATAAATCAGACAGAACAGTTAATCCTCAATTTAAGCCTGATCTAACCCCTAGAAACAGGTAAGCGACTTTTTAATTGAAACATAGTATTTGTACGTATTTATGGGGTTATGTGTGATATTTTGATACAAGCATACAATGTAATGACCAAATCAGGATCATTGGGAAATCCATCACCTCAACCATTTATCATTTCTTTGTATTTGGAACATTCCAAATTTTCTCTTCTAGCTATTT\n",
      ">chr2-283 4.5770167661752845 50\n",
      "ATTTTGGCTGCCGAGTTGGGGGACCGGAAGGATTTGGGGGTGAGGCAGAGCCGGACTCGGTGCATTTCCGTGTCTTTAGAGGAGAAGGCTTTTTTTTGCGTTTGGCATCTGAGGGACTCAAGAGCGGCGCGCATCACCTTGGGCCCAAGGCTGTGTTCGTGGCTCGTTTGCCTCGTGAGAGGCGGTGAATCATCGGCGAAGCGACTTTGGAAGCAATTTGGCCATTGGTGCCTTTGGGCTCTTCCGGTCTCCTCCCCTATGGCTTGTTGCTACTGCTGTTGGAAAGTTTTAACTTTGCGCAGAAGGGTTGCCGGCTGCTGGCTGTATGGGAGTTTGTGTTTGGCGGTGAGCCCCCTTCTCCGGTTCCTTCTACCTGCCAGATGGTCAGATGCGTTTTCCCAATTTCTGAAAGAGTGCTTTGCCCTCGCCATTTAGTGTTTACAAAACTAAATACAGCCAGCATAAGGGACTTGGATTTTTTCACTCTGCTGTAACTTACAGGTCCTGTAACCTTGAAGCATAGTCAGCTTTCGATTTTCCTGGTTGGTTCATTTTTTGGTAGGTGGGGGTGGAGATGGAGGTCGGGACACGGATACCATAC\n",
      ">chr4-12 4.519867472093445 40\n",
      "GGCAGCCAGCCTGTGGATGTAACAAGCTGACAGCTCATGCTCTTACAAATTCATGATAAGCAAACAGAATGTAGAGGAGGGATCAGCCCATAAAAGAGAAGAAAGTTCTGTTTTTGGGAAATCGAAAGTTAAGCAAGGAATGGGGCCAGGGTGTAACCTTATAAGGGAGATAATGAAACTTAGGCGATGTCTGGGAAGATTGGAGCCCCAGAGTACTCGACCAATGTGGAACTGGGGGAGGGAGTTGCATGCTAGGAGATAAATTATCTGTTTTGACTGCCCTGGATGGGCCTGCCTACCAGACACCGATCTTGCAAGACTGTTATTAGAAGTCTCACTTTATCTGTGCTCCATGCCTCTAAGTCCATTCTTTGGGTTTGGACGAGTAAGTGTGTATCTTACACCACTGTATCACTAACTAACCCAAATTACAAATATTGCTTTTAAGCATAGTTGCTTTCTGGAAGCTGTGGATTCTGTGAAAAATTATTATTTCCTTTGTCCCAGCATCTTTAGAAGGTTTCCTGTATCTAAGAAACATTACCCATCTTGGAACAGGGAGAGAAACATTTCAGCCATGGTTCTGCTTAATAATATTTTT\n",
      ">chr1-467 4.454056220826164 40\n",
      "TAGATATAGACATAGATATATGTATGTATCTATGTATCTGTGTTGGTATGTGTATAGTAAATAAGCCCATGAAAAGATGCTCAACATTAGGGTCTGAAACTGAAGCAAGAAAGAAAAAAAAATAAAAAGAAAAAAGATTCTCAAAATCATTAATTATTAGTCATTAGTGAAATGCAAATCGAAACCATAATGAGACAGCATTTCACTTCTATGAGGACAGTTAAAATCAAACGCAGACAATGACCTGTGTTGGCAAGGATGTGGAGAAACCGAAACTCTTGTACGTTACTCAACTCCTGTACACTGGGATTGCAAAATGGTGCAGCAACGACGTTTTTTCTTTTTTCTTTTCTTTTATTTGATATAGGGTCTTGCTGTGTCACCCAGGCTGGAATGGAGTGGAGTGGTGCAATCAGGGGTCATTGTAGCACCCAACTCCTGGACTCAAGCGATCTTCCTACCTCAGCCTCTCAAGTAGCTGGGCCTACAGGCACATGCCACCACACCCAGGCAATTAAAAAAATATTTTTTGGAGGCCAGGTGCAGTGGCTCATGCCTGTAATCCCAACACTTTGGGAGGCCGAGGCAGGTGGATCACGAA\n"
     ]
    }
   ],
   "source": [
    "! head {peak_fasta_filename}"
   ]
  },
  {
   "cell_type": "markdown",
   "metadata": {
    "toc-hr-collapsed": false
   },
   "source": [
    "## Load data for motif enrichment"
   ]
  },
  {
   "cell_type": "markdown",
   "metadata": {},
   "source": [
    "### Load the scored fasta"
   ]
  },
  {
   "cell_type": "code",
   "execution_count": 16,
   "metadata": {},
   "outputs": [],
   "source": [
    "from meirlop import read_scored_fasta, dict_to_df\n",
    "sequence_dict, score_dict, description_dict = read_scored_fasta(open(peak_fasta_filename, 'r'), description_delim = ' ')\n",
    "strata_dict = {key: int(val[2]) for key, val in description_dict.items()}\n",
    "\n",
    "score_df = dict_to_df(score_dict, 'peak_id', 'peak_score')\n",
    "strata_df = dict_to_df(strata_dict, 'peak_id', 'peak_strata')"
   ]
  },
  {
   "cell_type": "code",
   "execution_count": 17,
   "metadata": {},
   "outputs": [
    {
     "name": "stdout",
     "output_type": "stream",
     "text": [
      "(30474, 2)\n"
     ]
    },
    {
     "data": {
      "text/html": [
       "<div>\n",
       "<style scoped>\n",
       "    .dataframe tbody tr th:only-of-type {\n",
       "        vertical-align: middle;\n",
       "    }\n",
       "\n",
       "    .dataframe tbody tr th {\n",
       "        vertical-align: top;\n",
       "    }\n",
       "\n",
       "    .dataframe thead th {\n",
       "        text-align: right;\n",
       "    }\n",
       "</style>\n",
       "<table border=\"1\" class=\"dataframe\">\n",
       "  <thead>\n",
       "    <tr style=\"text-align: right;\">\n",
       "      <th></th>\n",
       "      <th>peak_id</th>\n",
       "      <th>peak_score</th>\n",
       "    </tr>\n",
       "  </thead>\n",
       "  <tbody>\n",
       "    <tr>\n",
       "      <th>0</th>\n",
       "      <td>chr9-2</td>\n",
       "      <td>10.335966</td>\n",
       "    </tr>\n",
       "    <tr>\n",
       "      <th>1</th>\n",
       "      <td>chr1-234</td>\n",
       "      <td>4.925634</td>\n",
       "    </tr>\n",
       "    <tr>\n",
       "      <th>2</th>\n",
       "      <td>chr2-283</td>\n",
       "      <td>4.577017</td>\n",
       "    </tr>\n",
       "    <tr>\n",
       "      <th>3</th>\n",
       "      <td>chr4-12</td>\n",
       "      <td>4.519867</td>\n",
       "    </tr>\n",
       "    <tr>\n",
       "      <th>4</th>\n",
       "      <td>chr1-467</td>\n",
       "      <td>4.454056</td>\n",
       "    </tr>\n",
       "  </tbody>\n",
       "</table>\n",
       "</div>"
      ],
      "text/plain": [
       "    peak_id  peak_score\n",
       "0    chr9-2   10.335966\n",
       "1  chr1-234    4.925634\n",
       "2  chr2-283    4.577017\n",
       "3   chr4-12    4.519867\n",
       "4  chr1-467    4.454056"
      ]
     },
     "execution_count": 17,
     "metadata": {},
     "output_type": "execute_result"
    }
   ],
   "source": [
    "print(score_df.shape)\n",
    "score_df.head()"
   ]
  },
  {
   "cell_type": "code",
   "execution_count": 18,
   "metadata": {},
   "outputs": [
    {
     "name": "stdout",
     "output_type": "stream",
     "text": [
      "(30474, 2)\n"
     ]
    },
    {
     "data": {
      "text/html": [
       "<div>\n",
       "<style scoped>\n",
       "    .dataframe tbody tr th:only-of-type {\n",
       "        vertical-align: middle;\n",
       "    }\n",
       "\n",
       "    .dataframe tbody tr th {\n",
       "        vertical-align: top;\n",
       "    }\n",
       "\n",
       "    .dataframe thead th {\n",
       "        text-align: right;\n",
       "    }\n",
       "</style>\n",
       "<table border=\"1\" class=\"dataframe\">\n",
       "  <thead>\n",
       "    <tr style=\"text-align: right;\">\n",
       "      <th></th>\n",
       "      <th>peak_id</th>\n",
       "      <th>peak_strata</th>\n",
       "    </tr>\n",
       "  </thead>\n",
       "  <tbody>\n",
       "    <tr>\n",
       "      <th>0</th>\n",
       "      <td>chr9-2</td>\n",
       "      <td>35</td>\n",
       "    </tr>\n",
       "    <tr>\n",
       "      <th>1</th>\n",
       "      <td>chr1-234</td>\n",
       "      <td>35</td>\n",
       "    </tr>\n",
       "    <tr>\n",
       "      <th>2</th>\n",
       "      <td>chr2-283</td>\n",
       "      <td>50</td>\n",
       "    </tr>\n",
       "    <tr>\n",
       "      <th>3</th>\n",
       "      <td>chr4-12</td>\n",
       "      <td>40</td>\n",
       "    </tr>\n",
       "    <tr>\n",
       "      <th>4</th>\n",
       "      <td>chr1-467</td>\n",
       "      <td>40</td>\n",
       "    </tr>\n",
       "  </tbody>\n",
       "</table>\n",
       "</div>"
      ],
      "text/plain": [
       "    peak_id  peak_strata\n",
       "0    chr9-2           35\n",
       "1  chr1-234           35\n",
       "2  chr2-283           50\n",
       "3   chr4-12           40\n",
       "4  chr1-467           40"
      ]
     },
     "execution_count": 18,
     "metadata": {},
     "output_type": "execute_result"
    }
   ],
   "source": [
    "print(strata_df.shape)\n",
    "strata_df.head()"
   ]
  },
  {
   "cell_type": "markdown",
   "metadata": {},
   "source": [
    "### Download and Load motif matrices"
   ]
  },
  {
   "cell_type": "code",
   "execution_count": 19,
   "metadata": {},
   "outputs": [
    {
     "name": "stderr",
     "output_type": "stream",
     "text": [
      "--2018-11-28 11:13:52--  http://jaspar.genereg.net/download/CORE/JASPAR2018_CORE_vertebrates_non-redundant_pfms_jaspar.txt\n",
      "Resolving jaspar.genereg.net... 193.60.222.202\n",
      "Connecting to jaspar.genereg.net|193.60.222.202|:80... connected.\n",
      "HTTP request sent, awaiting response... 200 OK\n",
      "Length: 214260 (209K) [text/plain]\n",
      "Saving to: 'JASPAR2018_CORE_vertebrates_non-redundant_pfms_jaspar.txt'\n",
      "\n",
      "     0K .......... .......... .......... .......... .......... 23%  178K 1s\n",
      "    50K .......... .......... .......... .......... .......... 47%  360K 0s\n",
      "   100K .......... .......... .......... .......... .......... 71% 9.77M 0s\n",
      "   150K .......... .......... .......... .......... .......... 95% 5.98M 0s\n",
      "   200K .........                                             100%  297K=0.5s\n",
      "\n",
      "2018-11-28 11:13:53 (450 KB/s) - 'JASPAR2018_CORE_vertebrates_non-redundant_pfms_jaspar.txt' saved [214260/214260]\n",
      "\n"
     ]
    }
   ],
   "source": [
    "%%bash\n",
    "wget \\\n",
    "--user-agent=\"Mozilla/5.0 (X11; Fedora; Linux x86_64; rv:52.0) Gecko/20100101 Firefox/52.0\" \\\n",
    "http://jaspar.genereg.net/download/CORE/JASPAR2018_CORE_vertebrates_non-redundant_pfms_jaspar.txt \\\n",
    "-O JASPAR2018_CORE_vertebrates_non-redundant_pfms_jaspar.txt"
   ]
  },
  {
   "cell_type": "code",
   "execution_count": 20,
   "metadata": {},
   "outputs": [],
   "source": [
    "from meirlop import read_motif_matrices\n",
    "known_motifs_filename = 'JASPAR2018_CORE_vertebrates_non-redundant_pfms_jaspar.txt'\n",
    "known_motifs_file = open(known_motifs_filename, 'r')\n",
    "motif_matrix_dict, motif_consensus_dict = read_motif_matrices(known_motifs_file)"
   ]
  },
  {
   "cell_type": "markdown",
   "metadata": {},
   "source": [
    "## Scan for motifs\n",
    "Create a dictionary, where the key is the motif id, and the value is a list of peaks containing the motif."
   ]
  },
  {
   "cell_type": "code",
   "execution_count": 21,
   "metadata": {},
   "outputs": [
    {
     "name": "stdout",
     "output_type": "stream",
     "text": [
      "2018-11-28 11:13:54.156567\n",
      "209.0934748277068 seconds\n",
      "2018-11-28 11:17:23.250803\n"
     ]
    }
   ],
   "source": [
    "start = timer()\n",
    "print(datetime.datetime.now())\n",
    "\n",
    "from meirlop import format_scan_results, scan_motifs, get_background\n",
    "scan_results_df, motif_peak_set_dict = format_scan_results(scan_motifs(motif_matrix_dict, \n",
    "                                                                       peak_sequence_dict, \n",
    "                                                                       bg = get_background(''.join(peak_sequence_dict.values())), \n",
    "                                                                       pval = 0.01, \n",
    "                                                                       pseudocount = 0.001, \n",
    "                                                                       window_size = 7))\n",
    "\n",
    "end = timer()\n",
    "runtime = end - start\n",
    "print(f'{runtime} seconds')\n",
    "print(datetime.datetime.now())"
   ]
  },
  {
   "cell_type": "markdown",
   "metadata": {},
   "source": [
    "## Perform logistic regression analysis\n",
    "Control for GC% as a covariate"
   ]
  },
  {
   "cell_type": "code",
   "execution_count": 22,
   "metadata": {},
   "outputs": [],
   "source": [
    "covariates_df = dict_to_df(peak_gc_pct_dict, 'peak_id', 'peak_covariate')"
   ]
  },
  {
   "cell_type": "code",
   "execution_count": 23,
   "metadata": {},
   "outputs": [
    {
     "name": "stdout",
     "output_type": "stream",
     "text": [
      "(30474, 2)\n"
     ]
    },
    {
     "data": {
      "text/html": [
       "<div>\n",
       "<style scoped>\n",
       "    .dataframe tbody tr th:only-of-type {\n",
       "        vertical-align: middle;\n",
       "    }\n",
       "\n",
       "    .dataframe tbody tr th {\n",
       "        vertical-align: top;\n",
       "    }\n",
       "\n",
       "    .dataframe thead th {\n",
       "        text-align: right;\n",
       "    }\n",
       "</style>\n",
       "<table border=\"1\" class=\"dataframe\">\n",
       "  <thead>\n",
       "    <tr style=\"text-align: right;\">\n",
       "      <th></th>\n",
       "      <th>peak_id</th>\n",
       "      <th>peak_covariate</th>\n",
       "    </tr>\n",
       "  </thead>\n",
       "  <tbody>\n",
       "    <tr>\n",
       "      <th>0</th>\n",
       "      <td>chr15-1</td>\n",
       "      <td>37.437604</td>\n",
       "    </tr>\n",
       "    <tr>\n",
       "      <th>1</th>\n",
       "      <td>chr6-1</td>\n",
       "      <td>50.915141</td>\n",
       "    </tr>\n",
       "    <tr>\n",
       "      <th>2</th>\n",
       "      <td>chr1-1</td>\n",
       "      <td>43.926789</td>\n",
       "    </tr>\n",
       "    <tr>\n",
       "      <th>3</th>\n",
       "      <td>chr1-2</td>\n",
       "      <td>53.244592</td>\n",
       "    </tr>\n",
       "    <tr>\n",
       "      <th>4</th>\n",
       "      <td>chr12-1</td>\n",
       "      <td>45.757072</td>\n",
       "    </tr>\n",
       "  </tbody>\n",
       "</table>\n",
       "</div>"
      ],
      "text/plain": [
       "   peak_id  peak_covariate\n",
       "0  chr15-1       37.437604\n",
       "1   chr6-1       50.915141\n",
       "2   chr1-1       43.926789\n",
       "3   chr1-2       53.244592\n",
       "4  chr12-1       45.757072"
      ]
     },
     "execution_count": 23,
     "metadata": {},
     "output_type": "execute_result"
    }
   ],
   "source": [
    "print(covariates_df.shape)\n",
    "covariates_df.head()"
   ]
  },
  {
   "cell_type": "code",
   "execution_count": 24,
   "metadata": {},
   "outputs": [
    {
     "name": "stdout",
     "output_type": "stream",
     "text": [
      "2018-11-28 11:17:23.600520\n"
     ]
    },
    {
     "data": {
      "application/vnd.jupyter.widget-view+json": {
       "model_id": "766e6543d3ce48799c461391d9e35b36",
       "version_major": 2,
       "version_minor": 0
      },
      "text/plain": [
       "HBox(children=(IntProgress(value=0, max=579), HTML(value='')))"
      ]
     },
     "metadata": {},
     "output_type": "display_data"
    },
    {
     "name": "stdout",
     "output_type": "stream",
     "text": [
      "\n",
      "117.57198852673173 seconds\n",
      "2018-11-28 11:19:21.172768\n"
     ]
    }
   ],
   "source": [
    "start = timer()\n",
    "print(datetime.datetime.now())\n",
    "\n",
    "from meirlop import analyze_peaks_with_lr\n",
    "from tqdm import tqdm_notebook\n",
    "\n",
    "lr_results_df = analyze_peaks_with_lr(peak_score_df = score_df,\n",
    "                                      peak_set_dict = motif_peak_set_dict,\n",
    "                                      peak_covariates_df = covariates_df,\n",
    "                                      padj_method = 'fdr_bh',\n",
    "                                      min_set_size = 1,\n",
    "                                      max_set_size = np.inf,\n",
    "                                      n_jobs = n_jobs,\n",
    "                                      progress_wrapper = tqdm_notebook)\n",
    "\n",
    "end = timer()\n",
    "runtime = end - start\n",
    "print(f'{runtime} seconds')\n",
    "print(datetime.datetime.now())"
   ]
  },
  {
   "cell_type": "code",
   "execution_count": 25,
   "metadata": {},
   "outputs": [
    {
     "data": {
      "text/html": [
       "<div>\n",
       "<style scoped>\n",
       "    .dataframe tbody tr th:only-of-type {\n",
       "        vertical-align: middle;\n",
       "    }\n",
       "\n",
       "    .dataframe tbody tr th {\n",
       "        vertical-align: top;\n",
       "    }\n",
       "\n",
       "    .dataframe thead th {\n",
       "        text-align: right;\n",
       "    }\n",
       "</style>\n",
       "<table border=\"1\" class=\"dataframe\">\n",
       "  <thead>\n",
       "    <tr style=\"text-align: right;\">\n",
       "      <th></th>\n",
       "      <th>motif_id</th>\n",
       "      <th>coef</th>\n",
       "      <th>pval</th>\n",
       "      <th>padj</th>\n",
       "      <th>padj_sig</th>\n",
       "      <th>abs_coef</th>\n",
       "    </tr>\n",
       "  </thead>\n",
       "  <tbody>\n",
       "    <tr>\n",
       "      <th>182</th>\n",
       "      <td>MA0517.1 STAT1::STAT2</td>\n",
       "      <td>0.226549</td>\n",
       "      <td>2.890335e-70</td>\n",
       "      <td>1.673504e-67</td>\n",
       "      <td>1</td>\n",
       "      <td>0.226549</td>\n",
       "    </tr>\n",
       "    <tr>\n",
       "      <th>31</th>\n",
       "      <td>MA0050.2 IRF1</td>\n",
       "      <td>0.163066</td>\n",
       "      <td>1.611660e-38</td>\n",
       "      <td>4.665755e-36</td>\n",
       "      <td>1</td>\n",
       "      <td>0.163066</td>\n",
       "    </tr>\n",
       "    <tr>\n",
       "      <th>375</th>\n",
       "      <td>MA0772.1 IRF7</td>\n",
       "      <td>0.152973</td>\n",
       "      <td>2.648969e-37</td>\n",
       "      <td>5.112511e-35</td>\n",
       "      <td>1</td>\n",
       "      <td>0.152973</td>\n",
       "    </tr>\n",
       "    <tr>\n",
       "      <th>577</th>\n",
       "      <td>MA1420.1 IRF5</td>\n",
       "      <td>0.119503</td>\n",
       "      <td>9.825213e-25</td>\n",
       "      <td>1.422200e-22</td>\n",
       "      <td>1</td>\n",
       "      <td>0.119503</td>\n",
       "    </tr>\n",
       "    <tr>\n",
       "      <th>69</th>\n",
       "      <td>MA0099.3 FOS::JUN</td>\n",
       "      <td>-0.111196</td>\n",
       "      <td>1.852787e-19</td>\n",
       "      <td>2.145527e-17</td>\n",
       "      <td>1</td>\n",
       "      <td>0.111196</td>\n",
       "    </tr>\n",
       "    <tr>\n",
       "      <th>547</th>\n",
       "      <td>MA1128.1 FOSL1::JUN</td>\n",
       "      <td>-0.107152</td>\n",
       "      <td>5.325775e-19</td>\n",
       "      <td>5.139373e-17</td>\n",
       "      <td>1</td>\n",
       "      <td>0.107152</td>\n",
       "    </tr>\n",
       "    <tr>\n",
       "      <th>563</th>\n",
       "      <td>MA1144.1 FOSL2::JUND</td>\n",
       "      <td>-0.100604</td>\n",
       "      <td>5.345893e-17</td>\n",
       "      <td>4.247259e-15</td>\n",
       "      <td>1</td>\n",
       "      <td>0.100604</td>\n",
       "    </tr>\n",
       "    <tr>\n",
       "      <th>554</th>\n",
       "      <td>MA1135.1 FOSB::JUNB</td>\n",
       "      <td>-0.100543</td>\n",
       "      <td>5.868406e-17</td>\n",
       "      <td>4.247259e-15</td>\n",
       "      <td>1</td>\n",
       "      <td>0.100543</td>\n",
       "    </tr>\n",
       "    <tr>\n",
       "      <th>557</th>\n",
       "      <td>MA1138.1 FOSL2::JUNB</td>\n",
       "      <td>-0.098077</td>\n",
       "      <td>3.471689e-16</td>\n",
       "      <td>1.827371e-14</td>\n",
       "      <td>1</td>\n",
       "      <td>0.098077</td>\n",
       "    </tr>\n",
       "    <tr>\n",
       "      <th>144</th>\n",
       "      <td>MA0478.1 FOSL2</td>\n",
       "      <td>-0.098056</td>\n",
       "      <td>1.020292e-16</td>\n",
       "      <td>6.563880e-15</td>\n",
       "      <td>1</td>\n",
       "      <td>0.098056</td>\n",
       "    </tr>\n",
       "    <tr>\n",
       "      <th>560</th>\n",
       "      <td>MA1141.1 FOS::JUND</td>\n",
       "      <td>-0.097498</td>\n",
       "      <td>1.952366e-16</td>\n",
       "      <td>1.130420e-14</td>\n",
       "      <td>1</td>\n",
       "      <td>0.097498</td>\n",
       "    </tr>\n",
       "    <tr>\n",
       "      <th>553</th>\n",
       "      <td>MA1134.1 FOS::JUNB</td>\n",
       "      <td>-0.096565</td>\n",
       "      <td>4.228802e-16</td>\n",
       "      <td>2.040397e-14</td>\n",
       "      <td>1</td>\n",
       "      <td>0.096565</td>\n",
       "    </tr>\n",
       "    <tr>\n",
       "      <th>549</th>\n",
       "      <td>MA1130.1 FOSL2::JUN</td>\n",
       "      <td>-0.095920</td>\n",
       "      <td>2.402785e-15</td>\n",
       "      <td>1.070163e-13</td>\n",
       "      <td>1</td>\n",
       "      <td>0.095920</td>\n",
       "    </tr>\n",
       "    <tr>\n",
       "      <th>556</th>\n",
       "      <td>MA1137.1 FOSL1::JUNB</td>\n",
       "      <td>-0.095632</td>\n",
       "      <td>8.663634e-14</td>\n",
       "      <td>3.135152e-12</td>\n",
       "      <td>1</td>\n",
       "      <td>0.095632</td>\n",
       "    </tr>\n",
       "    <tr>\n",
       "      <th>155</th>\n",
       "      <td>MA0490.1 JUNB</td>\n",
       "      <td>-0.090045</td>\n",
       "      <td>2.337236e-14</td>\n",
       "      <td>9.666139e-13</td>\n",
       "      <td>1</td>\n",
       "      <td>0.090045</td>\n",
       "    </tr>\n",
       "    <tr>\n",
       "      <th>143</th>\n",
       "      <td>MA0477.1 FOSL1</td>\n",
       "      <td>-0.089009</td>\n",
       "      <td>3.178181e-14</td>\n",
       "      <td>1.226778e-12</td>\n",
       "      <td>1</td>\n",
       "      <td>0.089009</td>\n",
       "    </tr>\n",
       "    <tr>\n",
       "      <th>142</th>\n",
       "      <td>MA0476.1 FOS</td>\n",
       "      <td>-0.088326</td>\n",
       "      <td>1.031081e-13</td>\n",
       "      <td>3.511741e-12</td>\n",
       "      <td>1</td>\n",
       "      <td>0.088326</td>\n",
       "    </tr>\n",
       "    <tr>\n",
       "      <th>154</th>\n",
       "      <td>MA0489.1 JUN(var.2)</td>\n",
       "      <td>-0.085835</td>\n",
       "      <td>4.498156e-13</td>\n",
       "      <td>1.302216e-11</td>\n",
       "      <td>1</td>\n",
       "      <td>0.085835</td>\n",
       "    </tr>\n",
       "    <tr>\n",
       "      <th>575</th>\n",
       "      <td>MA1418.1 IRF3</td>\n",
       "      <td>0.085426</td>\n",
       "      <td>1.271478e-13</td>\n",
       "      <td>4.089921e-12</td>\n",
       "      <td>1</td>\n",
       "      <td>0.085426</td>\n",
       "    </tr>\n",
       "    <tr>\n",
       "      <th>173</th>\n",
       "      <td>MA0508.2 PRDM1</td>\n",
       "      <td>0.084664</td>\n",
       "      <td>1.031483e-12</td>\n",
       "      <td>2.843945e-11</td>\n",
       "      <td>1</td>\n",
       "      <td>0.084664</td>\n",
       "    </tr>\n",
       "  </tbody>\n",
       "</table>\n",
       "</div>"
      ],
      "text/plain": [
       "                  motif_id      coef          pval          padj  padj_sig  \\\n",
       "182  MA0517.1 STAT1::STAT2  0.226549  2.890335e-70  1.673504e-67         1   \n",
       "31           MA0050.2 IRF1  0.163066  1.611660e-38  4.665755e-36         1   \n",
       "375          MA0772.1 IRF7  0.152973  2.648969e-37  5.112511e-35         1   \n",
       "577          MA1420.1 IRF5  0.119503  9.825213e-25  1.422200e-22         1   \n",
       "69       MA0099.3 FOS::JUN -0.111196  1.852787e-19  2.145527e-17         1   \n",
       "547    MA1128.1 FOSL1::JUN -0.107152  5.325775e-19  5.139373e-17         1   \n",
       "563   MA1144.1 FOSL2::JUND -0.100604  5.345893e-17  4.247259e-15         1   \n",
       "554    MA1135.1 FOSB::JUNB -0.100543  5.868406e-17  4.247259e-15         1   \n",
       "557   MA1138.1 FOSL2::JUNB -0.098077  3.471689e-16  1.827371e-14         1   \n",
       "144         MA0478.1 FOSL2 -0.098056  1.020292e-16  6.563880e-15         1   \n",
       "560     MA1141.1 FOS::JUND -0.097498  1.952366e-16  1.130420e-14         1   \n",
       "553     MA1134.1 FOS::JUNB -0.096565  4.228802e-16  2.040397e-14         1   \n",
       "549    MA1130.1 FOSL2::JUN -0.095920  2.402785e-15  1.070163e-13         1   \n",
       "556   MA1137.1 FOSL1::JUNB -0.095632  8.663634e-14  3.135152e-12         1   \n",
       "155          MA0490.1 JUNB -0.090045  2.337236e-14  9.666139e-13         1   \n",
       "143         MA0477.1 FOSL1 -0.089009  3.178181e-14  1.226778e-12         1   \n",
       "142           MA0476.1 FOS -0.088326  1.031081e-13  3.511741e-12         1   \n",
       "154    MA0489.1 JUN(var.2) -0.085835  4.498156e-13  1.302216e-11         1   \n",
       "575          MA1418.1 IRF3  0.085426  1.271478e-13  4.089921e-12         1   \n",
       "173         MA0508.2 PRDM1  0.084664  1.031483e-12  2.843945e-11         1   \n",
       "\n",
       "     abs_coef  \n",
       "182  0.226549  \n",
       "31   0.163066  \n",
       "375  0.152973  \n",
       "577  0.119503  \n",
       "69   0.111196  \n",
       "547  0.107152  \n",
       "563  0.100604  \n",
       "554  0.100543  \n",
       "557  0.098077  \n",
       "144  0.098056  \n",
       "560  0.097498  \n",
       "553  0.096565  \n",
       "549  0.095920  \n",
       "556  0.095632  \n",
       "155  0.090045  \n",
       "143  0.089009  \n",
       "142  0.088326  \n",
       "154  0.085835  \n",
       "575  0.085426  \n",
       "173  0.084664  "
      ]
     },
     "execution_count": 25,
     "metadata": {},
     "output_type": "execute_result"
    }
   ],
   "source": [
    "lr_results_df.head(20)"
   ]
  },
  {
   "cell_type": "markdown",
   "metadata": {},
   "source": [
    "## Perform enrichment analysis with stratified permutations\n",
    "We use an adaptation of GSEA prerank accounting for GC% in permutation testing."
   ]
  },
  {
   "cell_type": "code",
   "execution_count": 27,
   "metadata": {},
   "outputs": [
    {
     "name": "stdout",
     "output_type": "stream",
     "text": [
      "2018-11-28 11:19:21.679088\n"
     ]
    },
    {
     "data": {
      "application/vnd.jupyter.widget-view+json": {
       "model_id": "5489e7f5d7bb4330b1f55a325f925ccf",
       "version_major": 2,
       "version_minor": 0
      },
      "text/plain": [
       "HBox(children=(IntProgress(value=0), HTML(value='')))"
      ]
     },
     "metadata": {},
     "output_type": "display_data"
    },
    {
     "name": "stdout",
     "output_type": "stream",
     "text": [
      "\n"
     ]
    },
    {
     "data": {
      "application/vnd.jupyter.widget-view+json": {
       "model_id": "3683e000202e4444aace003ccf0d1e30",
       "version_major": 2,
       "version_minor": 0
      },
      "text/plain": [
       "HBox(children=(IntProgress(value=0, max=579), HTML(value='')))"
      ]
     },
     "metadata": {},
     "output_type": "display_data"
    },
    {
     "name": "stdout",
     "output_type": "stream",
     "text": [
      "\n"
     ]
    },
    {
     "data": {
      "application/vnd.jupyter.widget-view+json": {
       "model_id": "711444c42be64423b2fbe822f3b191a4",
       "version_major": 2,
       "version_minor": 0
      },
      "text/plain": [
       "HBox(children=(IntProgress(value=1, bar_style='info', max=1), HTML(value='')))"
      ]
     },
     "metadata": {},
     "output_type": "display_data"
    },
    {
     "name": "stdout",
     "output_type": "stream",
     "text": [
      "\n",
      "2613.4009576682 seconds\n",
      "2018-11-28 12:02:55.080225\n"
     ]
    }
   ],
   "source": [
    "start = timer()\n",
    "print(datetime.datetime.now())\n",
    "\n",
    "from meirlop import analyze_peaks_with_prerank\n",
    "from tqdm import tqdm_notebook\n",
    "\n",
    "rs = np.random.RandomState(1234)\n",
    "\n",
    "analysis_results = analyze_peaks_with_prerank(peak_score_df = score_df, \n",
    "                                              peak_set_dict = motif_peak_set_dict, \n",
    "                                              peak_strata_df = strata_df, \n",
    "                                              min_set_size = 1, \n",
    "                                              max_set_size = np.inf, \n",
    "                                              nperm = 10, \n",
    "                                              nshuf = 100, \n",
    "                                              rs = rs, \n",
    "                                              n_jobs = n_jobs, \n",
    "                                              progress_wrapper = tqdm_notebook)\n",
    "\n",
    "enrichment_score_results_df, shuffled_permuted_peak_data, peak_idx_to_peak_id = analysis_results\n",
    "\n",
    "end = timer()\n",
    "runtime = end - start\n",
    "print(f'{runtime} seconds')\n",
    "print(datetime.datetime.now())"
   ]
  },
  {
   "cell_type": "code",
   "execution_count": 28,
   "metadata": {},
   "outputs": [
    {
     "data": {
      "text/html": [
       "<div>\n",
       "<style scoped>\n",
       "    .dataframe tbody tr th:only-of-type {\n",
       "        vertical-align: middle;\n",
       "    }\n",
       "\n",
       "    .dataframe tbody tr th {\n",
       "        vertical-align: top;\n",
       "    }\n",
       "\n",
       "    .dataframe thead th {\n",
       "        text-align: right;\n",
       "    }\n",
       "</style>\n",
       "<table border=\"1\" class=\"dataframe\">\n",
       "  <thead>\n",
       "    <tr style=\"text-align: right;\">\n",
       "      <th></th>\n",
       "      <th>motif_id</th>\n",
       "      <th>es</th>\n",
       "      <th>nes</th>\n",
       "      <th>pval</th>\n",
       "      <th>n_more_extreme</th>\n",
       "      <th>fdr</th>\n",
       "      <th>n_all_null_nes_more_extreme</th>\n",
       "      <th>fdr_sig</th>\n",
       "      <th>abs_nes</th>\n",
       "    </tr>\n",
       "  </thead>\n",
       "  <tbody>\n",
       "    <tr>\n",
       "      <th>0</th>\n",
       "      <td>MA0653.1 IRF9</td>\n",
       "      <td>0.597925</td>\n",
       "      <td>2.873886</td>\n",
       "      <td>0.000000</td>\n",
       "      <td>0</td>\n",
       "      <td>0.000000</td>\n",
       "      <td>0</td>\n",
       "      <td>1</td>\n",
       "      <td>2.873886</td>\n",
       "    </tr>\n",
       "    <tr>\n",
       "      <th>1</th>\n",
       "      <td>MA0652.1 IRF8</td>\n",
       "      <td>0.569183</td>\n",
       "      <td>2.837782</td>\n",
       "      <td>0.000000</td>\n",
       "      <td>0</td>\n",
       "      <td>0.000000</td>\n",
       "      <td>0</td>\n",
       "      <td>1</td>\n",
       "      <td>2.837782</td>\n",
       "    </tr>\n",
       "    <tr>\n",
       "      <th>2</th>\n",
       "      <td>MA1419.1 IRF4</td>\n",
       "      <td>0.570349</td>\n",
       "      <td>2.735087</td>\n",
       "      <td>0.000000</td>\n",
       "      <td>0</td>\n",
       "      <td>0.000000</td>\n",
       "      <td>0</td>\n",
       "      <td>1</td>\n",
       "      <td>2.735087</td>\n",
       "    </tr>\n",
       "    <tr>\n",
       "      <th>3</th>\n",
       "      <td>MA1418.1 IRF3</td>\n",
       "      <td>0.520757</td>\n",
       "      <td>2.687702</td>\n",
       "      <td>0.000000</td>\n",
       "      <td>0</td>\n",
       "      <td>0.000000</td>\n",
       "      <td>0</td>\n",
       "      <td>1</td>\n",
       "      <td>2.687702</td>\n",
       "    </tr>\n",
       "    <tr>\n",
       "      <th>4</th>\n",
       "      <td>MA0051.1 IRF2</td>\n",
       "      <td>0.509017</td>\n",
       "      <td>2.519631</td>\n",
       "      <td>0.000000</td>\n",
       "      <td>0</td>\n",
       "      <td>0.000000</td>\n",
       "      <td>0</td>\n",
       "      <td>1</td>\n",
       "      <td>2.519631</td>\n",
       "    </tr>\n",
       "    <tr>\n",
       "      <th>5</th>\n",
       "      <td>MA1420.1 IRF5</td>\n",
       "      <td>0.318710</td>\n",
       "      <td>1.799281</td>\n",
       "      <td>0.000000</td>\n",
       "      <td>0</td>\n",
       "      <td>0.000023</td>\n",
       "      <td>2</td>\n",
       "      <td>1</td>\n",
       "      <td>1.799281</td>\n",
       "    </tr>\n",
       "    <tr>\n",
       "      <th>6</th>\n",
       "      <td>MA0772.1 IRF7</td>\n",
       "      <td>0.323126</td>\n",
       "      <td>1.753466</td>\n",
       "      <td>0.000000</td>\n",
       "      <td>0</td>\n",
       "      <td>0.000057</td>\n",
       "      <td>5</td>\n",
       "      <td>1</td>\n",
       "      <td>1.753466</td>\n",
       "    </tr>\n",
       "    <tr>\n",
       "      <th>7</th>\n",
       "      <td>MA0517.1 STAT1::STAT2</td>\n",
       "      <td>0.290726</td>\n",
       "      <td>1.623906</td>\n",
       "      <td>0.000000</td>\n",
       "      <td>0</td>\n",
       "      <td>0.000621</td>\n",
       "      <td>54</td>\n",
       "      <td>1</td>\n",
       "      <td>1.623906</td>\n",
       "    </tr>\n",
       "    <tr>\n",
       "      <th>8</th>\n",
       "      <td>MA0050.2 IRF1</td>\n",
       "      <td>0.283426</td>\n",
       "      <td>1.535185</td>\n",
       "      <td>0.000000</td>\n",
       "      <td>0</td>\n",
       "      <td>0.001517</td>\n",
       "      <td>132</td>\n",
       "      <td>1</td>\n",
       "      <td>1.535185</td>\n",
       "    </tr>\n",
       "    <tr>\n",
       "      <th>9</th>\n",
       "      <td>MA0731.1 BCL6B</td>\n",
       "      <td>-0.590739</td>\n",
       "      <td>-1.464156</td>\n",
       "      <td>0.067395</td>\n",
       "      <td>37</td>\n",
       "      <td>0.000764</td>\n",
       "      <td>376</td>\n",
       "      <td>1</td>\n",
       "      <td>1.464156</td>\n",
       "    </tr>\n",
       "    <tr>\n",
       "      <th>10</th>\n",
       "      <td>MA0501.1 MAF::NFE2</td>\n",
       "      <td>-0.279342</td>\n",
       "      <td>-1.458506</td>\n",
       "      <td>0.000000</td>\n",
       "      <td>0</td>\n",
       "      <td>0.000807</td>\n",
       "      <td>397</td>\n",
       "      <td>1</td>\n",
       "      <td>1.458506</td>\n",
       "    </tr>\n",
       "    <tr>\n",
       "      <th>11</th>\n",
       "      <td>MA0150.2 Nfe2l2</td>\n",
       "      <td>-0.271732</td>\n",
       "      <td>-1.448812</td>\n",
       "      <td>0.000000</td>\n",
       "      <td>0</td>\n",
       "      <td>0.000852</td>\n",
       "      <td>419</td>\n",
       "      <td>1</td>\n",
       "      <td>1.448812</td>\n",
       "    </tr>\n",
       "    <tr>\n",
       "      <th>12</th>\n",
       "      <td>MA0491.1 JUND</td>\n",
       "      <td>-0.265471</td>\n",
       "      <td>-1.427456</td>\n",
       "      <td>0.000000</td>\n",
       "      <td>0</td>\n",
       "      <td>0.001039</td>\n",
       "      <td>511</td>\n",
       "      <td>1</td>\n",
       "      <td>1.427456</td>\n",
       "    </tr>\n",
       "    <tr>\n",
       "      <th>13</th>\n",
       "      <td>MA0477.1 FOSL1</td>\n",
       "      <td>-0.262123</td>\n",
       "      <td>-1.411073</td>\n",
       "      <td>0.000000</td>\n",
       "      <td>0</td>\n",
       "      <td>0.001219</td>\n",
       "      <td>600</td>\n",
       "      <td>1</td>\n",
       "      <td>1.411073</td>\n",
       "    </tr>\n",
       "    <tr>\n",
       "      <th>14</th>\n",
       "      <td>MA1134.1 FOS::JUNB</td>\n",
       "      <td>-0.254742</td>\n",
       "      <td>-1.390239</td>\n",
       "      <td>0.000000</td>\n",
       "      <td>0</td>\n",
       "      <td>0.001443</td>\n",
       "      <td>710</td>\n",
       "      <td>1</td>\n",
       "      <td>1.390239</td>\n",
       "    </tr>\n",
       "    <tr>\n",
       "      <th>15</th>\n",
       "      <td>MA1101.1 BACH2</td>\n",
       "      <td>-0.259743</td>\n",
       "      <td>-1.389956</td>\n",
       "      <td>0.000000</td>\n",
       "      <td>0</td>\n",
       "      <td>0.001443</td>\n",
       "      <td>710</td>\n",
       "      <td>1</td>\n",
       "      <td>1.389956</td>\n",
       "    </tr>\n",
       "    <tr>\n",
       "      <th>16</th>\n",
       "      <td>MA1141.1 FOS::JUND</td>\n",
       "      <td>-0.254205</td>\n",
       "      <td>-1.389167</td>\n",
       "      <td>0.000000</td>\n",
       "      <td>0</td>\n",
       "      <td>0.001457</td>\n",
       "      <td>717</td>\n",
       "      <td>1</td>\n",
       "      <td>1.389167</td>\n",
       "    </tr>\n",
       "    <tr>\n",
       "      <th>17</th>\n",
       "      <td>MA0490.1 JUNB</td>\n",
       "      <td>-0.256720</td>\n",
       "      <td>-1.389135</td>\n",
       "      <td>0.000000</td>\n",
       "      <td>0</td>\n",
       "      <td>0.001459</td>\n",
       "      <td>718</td>\n",
       "      <td>1</td>\n",
       "      <td>1.389135</td>\n",
       "    </tr>\n",
       "    <tr>\n",
       "      <th>18</th>\n",
       "      <td>MA0478.1 FOSL2</td>\n",
       "      <td>-0.255034</td>\n",
       "      <td>-1.383163</td>\n",
       "      <td>0.000000</td>\n",
       "      <td>0</td>\n",
       "      <td>0.001545</td>\n",
       "      <td>760</td>\n",
       "      <td>1</td>\n",
       "      <td>1.383163</td>\n",
       "    </tr>\n",
       "    <tr>\n",
       "      <th>19</th>\n",
       "      <td>MA0009.2 T</td>\n",
       "      <td>0.303697</td>\n",
       "      <td>1.380586</td>\n",
       "      <td>0.002283</td>\n",
       "      <td>1</td>\n",
       "      <td>0.004748</td>\n",
       "      <td>413</td>\n",
       "      <td>1</td>\n",
       "      <td>1.380586</td>\n",
       "    </tr>\n",
       "  </tbody>\n",
       "</table>\n",
       "</div>"
      ],
      "text/plain": [
       "                 motif_id        es       nes      pval  n_more_extreme  \\\n",
       "0           MA0653.1 IRF9  0.597925  2.873886  0.000000               0   \n",
       "1           MA0652.1 IRF8  0.569183  2.837782  0.000000               0   \n",
       "2           MA1419.1 IRF4  0.570349  2.735087  0.000000               0   \n",
       "3           MA1418.1 IRF3  0.520757  2.687702  0.000000               0   \n",
       "4           MA0051.1 IRF2  0.509017  2.519631  0.000000               0   \n",
       "5           MA1420.1 IRF5  0.318710  1.799281  0.000000               0   \n",
       "6           MA0772.1 IRF7  0.323126  1.753466  0.000000               0   \n",
       "7   MA0517.1 STAT1::STAT2  0.290726  1.623906  0.000000               0   \n",
       "8           MA0050.2 IRF1  0.283426  1.535185  0.000000               0   \n",
       "9          MA0731.1 BCL6B -0.590739 -1.464156  0.067395              37   \n",
       "10     MA0501.1 MAF::NFE2 -0.279342 -1.458506  0.000000               0   \n",
       "11        MA0150.2 Nfe2l2 -0.271732 -1.448812  0.000000               0   \n",
       "12          MA0491.1 JUND -0.265471 -1.427456  0.000000               0   \n",
       "13         MA0477.1 FOSL1 -0.262123 -1.411073  0.000000               0   \n",
       "14     MA1134.1 FOS::JUNB -0.254742 -1.390239  0.000000               0   \n",
       "15         MA1101.1 BACH2 -0.259743 -1.389956  0.000000               0   \n",
       "16     MA1141.1 FOS::JUND -0.254205 -1.389167  0.000000               0   \n",
       "17          MA0490.1 JUNB -0.256720 -1.389135  0.000000               0   \n",
       "18         MA0478.1 FOSL2 -0.255034 -1.383163  0.000000               0   \n",
       "19             MA0009.2 T  0.303697  1.380586  0.002283               1   \n",
       "\n",
       "         fdr  n_all_null_nes_more_extreme  fdr_sig   abs_nes  \n",
       "0   0.000000                            0        1  2.873886  \n",
       "1   0.000000                            0        1  2.837782  \n",
       "2   0.000000                            0        1  2.735087  \n",
       "3   0.000000                            0        1  2.687702  \n",
       "4   0.000000                            0        1  2.519631  \n",
       "5   0.000023                            2        1  1.799281  \n",
       "6   0.000057                            5        1  1.753466  \n",
       "7   0.000621                           54        1  1.623906  \n",
       "8   0.001517                          132        1  1.535185  \n",
       "9   0.000764                          376        1  1.464156  \n",
       "10  0.000807                          397        1  1.458506  \n",
       "11  0.000852                          419        1  1.448812  \n",
       "12  0.001039                          511        1  1.427456  \n",
       "13  0.001219                          600        1  1.411073  \n",
       "14  0.001443                          710        1  1.390239  \n",
       "15  0.001443                          710        1  1.389956  \n",
       "16  0.001457                          717        1  1.389167  \n",
       "17  0.001459                          718        1  1.389135  \n",
       "18  0.001545                          760        1  1.383163  \n",
       "19  0.004748                          413        1  1.380586  "
      ]
     },
     "execution_count": 28,
     "metadata": {},
     "output_type": "execute_result"
    }
   ],
   "source": [
    "enrichment_score_results_df.head(20)"
   ]
  },
  {
   "cell_type": "code",
   "execution_count": 29,
   "metadata": {},
   "outputs": [
    {
     "data": {
      "text/plain": [
       "(216, 9)"
      ]
     },
     "execution_count": 29,
     "metadata": {},
     "output_type": "execute_result"
    }
   ],
   "source": [
    "enrichment_score_results_df[enrichment_score_results_df['fdr_sig'] == 1].shape"
   ]
  }
 ],
 "metadata": {
  "kernelspec": {
   "display_name": "Python 3",
   "language": "python",
   "name": "python3"
  },
  "language_info": {
   "codemirror_mode": {
    "name": "ipython",
    "version": 3
   },
   "file_extension": ".py",
   "mimetype": "text/x-python",
   "name": "python",
   "nbconvert_exporter": "python",
   "pygments_lexer": "ipython3",
   "version": "3.6.6"
  }
 },
 "nbformat": 4,
 "nbformat_minor": 2
}
